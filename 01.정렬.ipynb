{
 "cells": [
  {
   "cell_type": "markdown",
   "id": "cabb5d00",
   "metadata": {},
   "source": [
    "# 정렬\n",
    "[출제 빈도 높음, 평균 점수 높음]"
   ]
  },
  {
   "cell_type": "markdown",
   "id": "efd4d512",
   "metadata": {},
   "source": [
    "## Lv1. K번째 수"
   ]
  },
  {
   "cell_type": "code",
   "execution_count": 1,
   "id": "5a8d2266",
   "metadata": {},
   "outputs": [],
   "source": [
    "def solution(array, commands):\n",
    "    answer = []\n",
    "    for i, j, k in commands:\n",
    "        answer.append(sorted(array[i-1:j])[k-1])\n",
    "    return answer"
   ]
  },
  {
   "cell_type": "code",
   "execution_count": 2,
   "id": "952ddac3",
   "metadata": {},
   "outputs": [],
   "source": [
    "array = [1,5,2,6,3,7,4]\n",
    "commands = [[2,5,3],[4,4,1],[1,7,3]]"
   ]
  },
  {
   "cell_type": "code",
   "execution_count": 3,
   "id": "56042c80",
   "metadata": {},
   "outputs": [
    {
     "data": {
      "text/plain": [
       "[5, 6, 3]"
      ]
     },
     "execution_count": 3,
     "metadata": {},
     "output_type": "execute_result"
    }
   ],
   "source": [
    "solution(array, commands)"
   ]
  },
  {
   "cell_type": "markdown",
   "id": "f3c7951f",
   "metadata": {},
   "source": [
    "## Lv2. 가장 큰 수"
   ]
  },
  {
   "cell_type": "markdown",
   "id": "af97d22d",
   "metadata": {},
   "source": [
    "- 문자열 형태로 비교 : 자릿수에 상관없이 맨 앞 자리가 가장 큰 수를 먼저 배치\n",
    "\n",
    "\n",
    "- sort(key=lambda x: x * 3) : 30보다 3이 먼저 배치되도록 (cf)303 < 330) 하기 위해 자릿수 채우기 (원소가 0 이상 1,000 이하이므로 곱하기 3)"
   ]
  },
  {
   "cell_type": "code",
   "execution_count": 44,
   "id": "5425d85d",
   "metadata": {},
   "outputs": [],
   "source": [
    "def solution(numbers):\n",
    "    numbers = list(map(str, numbers))\n",
    "    numbers.sort(key=lambda x: x*3, reverse=True)\n",
    "    return str(int(''.join(numbers)))"
   ]
  },
  {
   "cell_type": "code",
   "execution_count": 45,
   "id": "fdaad670",
   "metadata": {},
   "outputs": [],
   "source": [
    "numbers = ['3','30','34','5','9']"
   ]
  },
  {
   "cell_type": "code",
   "execution_count": 46,
   "id": "b8799891",
   "metadata": {},
   "outputs": [
    {
     "data": {
      "text/plain": [
       "'9534330'"
      ]
     },
     "execution_count": 46,
     "metadata": {},
     "output_type": "execute_result"
    }
   ],
   "source": [
    "solution(numbers)"
   ]
  },
  {
   "cell_type": "markdown",
   "id": "41e0e08e",
   "metadata": {},
   "source": [
    "- return 값을 str(int())로 출력 : 모든 원소가 0인 경우 0000과 같이 출력되는 것을 방지"
   ]
  },
  {
   "cell_type": "markdown",
   "id": "05ddb546",
   "metadata": {},
   "source": [
    "## Lv2. H-Index"
   ]
  },
  {
   "cell_type": "code",
   "execution_count": 91,
   "id": "c20db0c4",
   "metadata": {},
   "outputs": [],
   "source": [
    "def solution(citations):\n",
    "    for h in range(max(citations),0,-1):\n",
    "        over_h = 0\n",
    "        for citation in citations:\n",
    "            if citation >= h:\n",
    "                over_h += 1\n",
    "            if h == over_h:\n",
    "                return h\n",
    "    return 0"
   ]
  },
  {
   "cell_type": "code",
   "execution_count": 92,
   "id": "4d1b6e1e",
   "metadata": {},
   "outputs": [],
   "source": [
    "citations = [3,0,6,1,5]"
   ]
  },
  {
   "cell_type": "code",
   "execution_count": 93,
   "id": "e30e2a03",
   "metadata": {},
   "outputs": [
    {
     "data": {
      "text/plain": [
       "3"
      ]
     },
     "execution_count": 93,
     "metadata": {},
     "output_type": "execute_result"
    }
   ],
   "source": [
    "solution(citations)"
   ]
  },
  {
   "cell_type": "code",
   "execution_count": null,
   "id": "aaa1231f",
   "metadata": {},
   "outputs": [],
   "source": []
  },
  {
   "cell_type": "code",
   "execution_count": null,
   "id": "573665d7",
   "metadata": {},
   "outputs": [],
   "source": []
  }
 ],
 "metadata": {
  "kernelspec": {
   "display_name": "Python 3",
   "language": "python",
   "name": "python3"
  },
  "language_info": {
   "codemirror_mode": {
    "name": "ipython",
    "version": 3
   },
   "file_extension": ".py",
   "mimetype": "text/x-python",
   "name": "python",
   "nbconvert_exporter": "python",
   "pygments_lexer": "ipython3",
   "version": "3.8.8"
  }
 },
 "nbformat": 4,
 "nbformat_minor": 5
}
