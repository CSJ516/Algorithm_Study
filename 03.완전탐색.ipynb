{
 "cells": [
  {
   "cell_type": "markdown",
   "metadata": {
    "toc": true
   },
   "source": [
    "<h1>Table of Contents<span class=\"tocSkip\"></span></h1>\n",
    "<div class=\"toc\"><ul class=\"toc-item\"><li><span><a href=\"#완전탐색\" data-toc-modified-id=\"완전탐색-1\">완전탐색</a></span><ul class=\"toc-item\"><li><span><a href=\"#Lv1.-모의고사\" data-toc-modified-id=\"Lv1.-모의고사-1.1\">Lv1. 모의고사</a></span></li><li><span><a href=\"#Lv2.-소수-찾기-★\" data-toc-modified-id=\"Lv2.-소수-찾기-★-1.2\">Lv2. 소수 찾기 ★</a></span></li><li><span><a href=\"#Lv2.-카펫\" data-toc-modified-id=\"Lv2.-카펫-1.3\">Lv2. 카펫</a></span></li></ul></li></ul></div>"
   ]
  },
  {
   "cell_type": "markdown",
   "metadata": {},
   "source": [
    "# 완전탐색\n",
    "[출제 빈도 높음, 평균 점수 낮음]"
   ]
  },
  {
   "cell_type": "markdown",
   "metadata": {},
   "source": [
    "## Lv1. 모의고사"
   ]
  },
  {
   "cell_type": "code",
   "execution_count": 7,
   "metadata": {},
   "outputs": [],
   "source": [
    "def solution(answers):\n",
    "    l1 = [1,2,3,4,5] * (len(answers)//5 + 1)\n",
    "    l2 = [2,1,2,3,2,4,2,5] * (len(answers)//8 + 1)\n",
    "    l3 = [3,3,1,1,2,2,4,4,5,5] * (len(answers)//10 + 1)\n",
    "    score = [0,0,0]\n",
    "    answer = []\n",
    "    for i in range(len(answers)):\n",
    "        if answers[i] == l1[i]:\n",
    "            score[0] += 1\n",
    "        if answers[i] == l2[i]:\n",
    "            score[1] += 1\n",
    "        if answers[i] == l3[i]:\n",
    "            score[2] += 1\n",
    "    for j in range(1,4):\n",
    "        if max(score) == score[j-1]:\n",
    "            answer.append(j)\n",
    "    return answer"
   ]
  },
  {
   "cell_type": "code",
   "execution_count": 8,
   "metadata": {},
   "outputs": [],
   "source": [
    "answers = [1,3,2,4,2]"
   ]
  },
  {
   "cell_type": "code",
   "execution_count": 9,
   "metadata": {},
   "outputs": [
    {
     "data": {
      "text/plain": [
       "[1, 2, 3]"
      ]
     },
     "execution_count": 9,
     "metadata": {},
     "output_type": "execute_result"
    }
   ],
   "source": [
    "solution(answers)"
   ]
  },
  {
   "cell_type": "markdown",
   "metadata": {},
   "source": [
    "- 첫 번째 풀이에서는 리스트를 answers의 길이만큼 늘렸으나, 두 번째 풀이에서 리스트가 반복된다는 점을 이용하여 '나머지'를 인덱스로 사용"
   ]
  },
  {
   "cell_type": "code",
   "execution_count": 10,
   "metadata": {},
   "outputs": [],
   "source": [
    "# index, enumerate를 사용하는 경우\n",
    "def solution(answers):\n",
    "    l1 = [1,2,3,4,5]\n",
    "    l2 = [2,1,2,3,2,4,2,5]\n",
    "    l3 = [3,3,1,1,2,2,4,4,5,5]\n",
    "    score = [0, 0, 0]\n",
    "    result = []\n",
    "    for idx, answer in enumerate(answers):\n",
    "        if answer == l1[idx%len(l1)]:\n",
    "            score[0] += 1\n",
    "        if answer == l2[idx%len(l2)]:\n",
    "            score[1] += 1\n",
    "        if answer == l3[idx%len(l3)]:\n",
    "            score[2] += 1\n",
    "    for idx, s in enumerate(score):\n",
    "        if s == max(score):\n",
    "            result.append(idx+1)   \n",
    "    return result"
   ]
  },
  {
   "cell_type": "markdown",
   "metadata": {},
   "source": [
    "## Lv2. 소수 찾기 ★"
   ]
  },
  {
   "cell_type": "markdown",
   "metadata": {},
   "source": [
    "- permutations : 순열. 순서를 고려하여 나열한 경우의 수 (조합은 순서 상관 X)"
   ]
  },
  {
   "cell_type": "code",
   "execution_count": 14,
   "metadata": {},
   "outputs": [],
   "source": [
    "from itertools import permutations\n",
    "def solution(numbers):\n",
    "    num_list = []\n",
    "    \n",
    "    # 모든 순열을 담은 리스트 생성\n",
    "    for i in range(1, len(numbers)+1):\n",
    "        perm = permutations(numbers, i)\n",
    "        for j in perm:\n",
    "            num_list.append(int(''.join(j)))\n",
    "    num_list = set(num_list)\n",
    "        \n",
    "    # 소수가 아닌 0, 1 제외\n",
    "    if 0 in num_list:\n",
    "        num_list.remove(0)\n",
    "    if 1 in num_list:\n",
    "        num_list.remove(1)\n",
    "    \n",
    "    answer = len(num_list)\n",
    "    for i in num_list:\n",
    "        if i != 2:\n",
    "            for j in range(2, int(i**0.5)+1):\n",
    "                if i % j == 0:   # 배수 제외\n",
    "                    answer -= 1\n",
    "                    break\n",
    "    return answer"
   ]
  },
  {
   "cell_type": "code",
   "execution_count": 19,
   "metadata": {},
   "outputs": [],
   "source": [
    "numbers = \"17\""
   ]
  },
  {
   "cell_type": "code",
   "execution_count": 20,
   "metadata": {},
   "outputs": [
    {
     "data": {
      "text/plain": [
       "3"
      ]
     },
     "execution_count": 20,
     "metadata": {},
     "output_type": "execute_result"
    }
   ],
   "source": [
    "solution(numbers)"
   ]
  },
  {
   "cell_type": "code",
   "execution_count": 21,
   "metadata": {},
   "outputs": [],
   "source": [
    "# map, set을 사용하는 경우 \n",
    "from itertools import permutations\n",
    "def solution(n):\n",
    "    a = set()\n",
    "    for i in range(len(n)):\n",
    "        a |= set(map(int, map(\"\".join, permutations(list(n), i + 1))))\n",
    "    a -= set(range(0, 2))\n",
    "    for i in range(2, int(max(a)**0.5) + 1):\n",
    "        a -= set(range(i * 2, max(a) + 1, i))\n",
    "    return len(a)"
   ]
  },
  {
   "cell_type": "markdown",
   "metadata": {},
   "source": [
    "- |= 연산자를 통해 가능한 수를 a에 저장하고 '에라토스테네스의 체'를 이용하여 a에서 제거"
   ]
  },
  {
   "cell_type": "markdown",
   "metadata": {},
   "source": [
    "## Lv2. 카펫"
   ]
  },
  {
   "cell_type": "code",
   "execution_count": null,
   "metadata": {},
   "outputs": [],
   "source": []
  }
 ],
 "metadata": {
  "kernelspec": {
   "display_name": "Python 3",
   "language": "python",
   "name": "python3"
  },
  "language_info": {
   "codemirror_mode": {
    "name": "ipython",
    "version": 3
   },
   "file_extension": ".py",
   "mimetype": "text/x-python",
   "name": "python",
   "nbconvert_exporter": "python",
   "pygments_lexer": "ipython3",
   "version": "3.8.3"
  },
  "toc": {
   "base_numbering": 1,
   "nav_menu": {},
   "number_sections": false,
   "sideBar": false,
   "skip_h1_title": false,
   "title_cell": "Table of Contents",
   "title_sidebar": "Contents",
   "toc_cell": true,
   "toc_position": {},
   "toc_section_display": true,
   "toc_window_display": false
  }
 },
 "nbformat": 4,
 "nbformat_minor": 4
}
