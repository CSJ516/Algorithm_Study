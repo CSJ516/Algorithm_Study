{
 "cells": [
  {
   "cell_type": "markdown",
   "metadata": {
    "toc": true
   },
   "source": [
    "<h1>Table of Contents<span class=\"tocSkip\"></span></h1>\n",
    "<div class=\"toc\"><ul class=\"toc-item\"><li><span><a href=\"#해시\" data-toc-modified-id=\"해시-1\">해시</a></span><ul class=\"toc-item\"><li><span><a href=\"#Lv1.-완주하지-못한-선수\" data-toc-modified-id=\"Lv1.-완주하지-못한-선수-1.1\">Lv1. 완주하지 못한 선수</a></span></li><li><span><a href=\"#Lv2.-전화번호-목록\" data-toc-modified-id=\"Lv2.-전화번호-목록-1.2\">Lv2. 전화번호 목록</a></span></li><li><span><a href=\"#Lv2.-위장-★\" data-toc-modified-id=\"Lv2.-위장-★-1.3\">Lv2. 위장 ★</a></span></li></ul></li></ul></div>"
   ]
  },
  {
   "cell_type": "markdown",
   "metadata": {},
   "source": [
    "# 해시\n",
    "[출제 빈도 높음, 평균 점수 보통]"
   ]
  },
  {
   "cell_type": "markdown",
   "metadata": {},
   "source": [
    "## Lv1. 완주하지 못한 선수\n",
    "\n",
    "- 각 리스트를 정렬하여 다른 값 출력 (i번째까지 다른 값이 없다면 participant의 맨 마지막 값 출력)"
   ]
  },
  {
   "cell_type": "code",
   "execution_count": 1,
   "metadata": {},
   "outputs": [],
   "source": [
    "def solution(participant, completion):\n",
    "    participant.sort()\n",
    "    completion.sort()\n",
    "    for i in range(len(participant)-1):\n",
    "        if participant[i] != completion[i]:\n",
    "            return participant[i]\n",
    "    return participant[-1]"
   ]
  },
  {
   "cell_type": "markdown",
   "metadata": {},
   "source": [
    "## Lv2. 전화번호 목록"
   ]
  },
  {
   "cell_type": "code",
   "execution_count": 9,
   "metadata": {},
   "outputs": [],
   "source": [
    "# 효율성 실패\n",
    "# def solution(phone_book):\n",
    "#     phone_book.sort()\n",
    "#     for i in phone_book:\n",
    "#         for j in phone_book:\n",
    "#             if (i < j) & (i == j[:len(i)]):\n",
    "#                 return False\n",
    "#     return True"
   ]
  },
  {
   "cell_type": "markdown",
   "metadata": {},
   "source": [
    "- 정렬을 사용한다는 점에서 동일하지만, for문을 한 번만 사용하여 효율성 향상"
   ]
  },
  {
   "cell_type": "code",
   "execution_count": 10,
   "metadata": {},
   "outputs": [],
   "source": [
    "def solution(phone_book):\n",
    "    phone_book.sort()\n",
    "    for i in range(len(phone_book)-1):\n",
    "        if phone_book[i] == phone_book[i+1][:len(phone_book[i])]:\n",
    "            return False\n",
    "    return True"
   ]
  },
  {
   "cell_type": "code",
   "execution_count": 11,
   "metadata": {},
   "outputs": [],
   "source": [
    "phone_book = [\"12\",\"123\",\"1235\",\"567\",\"88\"]"
   ]
  },
  {
   "cell_type": "code",
   "execution_count": 12,
   "metadata": {},
   "outputs": [
    {
     "data": {
      "text/plain": [
       "False"
      ]
     },
     "execution_count": 12,
     "metadata": {},
     "output_type": "execute_result"
    }
   ],
   "source": [
    "solution(phone_book)"
   ]
  },
  {
   "cell_type": "markdown",
   "metadata": {},
   "source": [
    "## Lv2. 위장 ★"
   ]
  },
  {
   "cell_type": "markdown",
   "metadata": {},
   "source": [
    "- 종류별 개수를 곱한 값과 의상의 총 개수를 합하면 모든 경우의 수가 나올 것이라는 생각 -> X"
   ]
  },
  {
   "cell_type": "code",
   "execution_count": 56,
   "metadata": {},
   "outputs": [],
   "source": [
    "# 정확성 28.6 실패\n",
    "# from collections import defaultdict\n",
    "\n",
    "# def solution(clothes):\n",
    "#     dic = defaultdict(list)\n",
    "#     answer = 1\n",
    "#     for i, j in clothes:\n",
    "#         dic[j].append(i)\n",
    "#     for k in dic.keys():\n",
    "#         if len(dic.keys()) == 1:\n",
    "#             return len(clothes)\n",
    "#         else:\n",
    "#             answer *= len(dic[k])\n",
    "#     return len(clothes) + answer"
   ]
  },
  {
   "cell_type": "code",
   "execution_count": 57,
   "metadata": {},
   "outputs": [],
   "source": [
    "from collections import defaultdict\n",
    "\n",
    "def solution(clothes):\n",
    "    dic = defaultdict(list)\n",
    "    answer = 1\n",
    "    for i, j in clothes:\n",
    "        dic[j].append(i)\n",
    "    for k in dic.keys():\n",
    "        answer *= (len(dic[k])+1)\n",
    "    return answer-1"
   ]
  },
  {
   "cell_type": "code",
   "execution_count": 58,
   "metadata": {},
   "outputs": [],
   "source": [
    "clothes = [[\"yellowhat\", \"headgear\"], [\"bluesunglasses\", \"eyewear\"], [\"green_turban\", \"headgear\"]]"
   ]
  },
  {
   "cell_type": "code",
   "execution_count": 59,
   "metadata": {},
   "outputs": [
    {
     "data": {
      "text/plain": [
       "5"
      ]
     },
     "execution_count": 59,
     "metadata": {},
     "output_type": "execute_result"
    }
   ],
   "source": [
    "solution(clothes)"
   ]
  },
  {
   "cell_type": "markdown",
   "metadata": {},
   "source": [
    "- (종류 + 1)을 곱하고 마지막에 1을 빼는 이유 : (a+1)(b+1)(c+1) - 1 = (a+b+c) + (ab+bc+ca) + (abc)"
   ]
  },
  {
   "cell_type": "code",
   "execution_count": 60,
   "metadata": {},
   "outputs": [],
   "source": [
    "# 모듈을 사용하지 않는 경우\n",
    "def solution(clothes):\n",
    "    dic = {}\n",
    "    answer = 1\n",
    "    for i, j in clothes:\n",
    "        if j not in dic.keys():\n",
    "            dic[j] = 1\n",
    "        else:\n",
    "            dic[j] += 1\n",
    "    for v in dic.values():\n",
    "        answer *= (v+1)\n",
    "    return answer-1"
   ]
  },
  {
   "cell_type": "code",
   "execution_count": 61,
   "metadata": {},
   "outputs": [],
   "source": [
    "clothes = [[\"yellowhat\", \"headgear\"], [\"bluesunglasses\", \"eyewear\"], [\"green_turban\", \"headgear\"]]"
   ]
  },
  {
   "cell_type": "code",
   "execution_count": 62,
   "metadata": {},
   "outputs": [
    {
     "data": {
      "text/plain": [
       "5"
      ]
     },
     "execution_count": 62,
     "metadata": {},
     "output_type": "execute_result"
    }
   ],
   "source": [
    "solution(clothes)"
   ]
  },
  {
   "cell_type": "code",
   "execution_count": null,
   "metadata": {},
   "outputs": [],
   "source": []
  }
 ],
 "metadata": {
  "kernelspec": {
   "display_name": "Python 3",
   "language": "python",
   "name": "python3"
  },
  "language_info": {
   "codemirror_mode": {
    "name": "ipython",
    "version": 3
   },
   "file_extension": ".py",
   "mimetype": "text/x-python",
   "name": "python",
   "nbconvert_exporter": "python",
   "pygments_lexer": "ipython3",
   "version": "3.8.3"
  },
  "toc": {
   "base_numbering": 1,
   "nav_menu": {},
   "number_sections": false,
   "sideBar": false,
   "skip_h1_title": false,
   "title_cell": "Table of Contents",
   "title_sidebar": "Contents",
   "toc_cell": true,
   "toc_position": {},
   "toc_section_display": true,
   "toc_window_display": false
  }
 },
 "nbformat": 4,
 "nbformat_minor": 4
}
